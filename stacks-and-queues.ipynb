{
 "cells": [
  {
   "cell_type": "markdown",
   "id": "9ba6fc5e",
   "metadata": {
    "papermill": {
     "duration": 0.005095,
     "end_time": "2024-07-31T11:52:45.214004",
     "exception": false,
     "start_time": "2024-07-31T11:52:45.208909",
     "status": "completed"
    },
    "tags": []
   },
   "source": [
    "# Stacks & Queues"
   ]
  },
  {
   "cell_type": "code",
   "execution_count": 1,
   "id": "dd0fbc43",
   "metadata": {
    "execution": {
     "iopub.execute_input": "2024-07-31T11:52:45.225923Z",
     "iopub.status.busy": "2024-07-31T11:52:45.225018Z",
     "iopub.status.idle": "2024-07-31T11:52:45.238285Z",
     "shell.execute_reply": "2024-07-31T11:52:45.237313Z"
    },
    "papermill": {
     "duration": 0.021653,
     "end_time": "2024-07-31T11:52:45.240675",
     "exception": false,
     "start_time": "2024-07-31T11:52:45.219022",
     "status": "completed"
    },
    "tags": []
   },
   "outputs": [
    {
     "name": "stdout",
     "output_type": "stream",
     "text": [
      "[]\n"
     ]
    }
   ],
   "source": [
    "# Stacks - Last in First Out (Lifo)\n",
    "stk = []\n",
    "print(stk)"
   ]
  },
  {
   "cell_type": "code",
   "execution_count": 2,
   "id": "152315e3",
   "metadata": {
    "execution": {
     "iopub.execute_input": "2024-07-31T11:52:45.251679Z",
     "iopub.status.busy": "2024-07-31T11:52:45.251078Z",
     "iopub.status.idle": "2024-07-31T11:52:45.259178Z",
     "shell.execute_reply": "2024-07-31T11:52:45.258032Z"
    },
    "papermill": {
     "duration": 0.01616,
     "end_time": "2024-07-31T11:52:45.261456",
     "exception": false,
     "start_time": "2024-07-31T11:52:45.245296",
     "status": "completed"
    },
    "tags": []
   },
   "outputs": [
    {
     "data": {
      "text/plain": [
       "[5, 4, 3]"
      ]
     },
     "execution_count": 2,
     "metadata": {},
     "output_type": "execute_result"
    }
   ],
   "source": [
    "# Append to top of stack O(1)\n",
    "stk.append(5)\n",
    "stk.append(4)\n",
    "stk.append(3)\n",
    "stk"
   ]
  },
  {
   "cell_type": "code",
   "execution_count": 3,
   "id": "08048f89",
   "metadata": {
    "execution": {
     "iopub.execute_input": "2024-07-31T11:52:45.273145Z",
     "iopub.status.busy": "2024-07-31T11:52:45.272805Z",
     "iopub.status.idle": "2024-07-31T11:52:45.280459Z",
     "shell.execute_reply": "2024-07-31T11:52:45.279286Z"
    },
    "papermill": {
     "duration": 0.016062,
     "end_time": "2024-07-31T11:52:45.282838",
     "exception": false,
     "start_time": "2024-07-31T11:52:45.266776",
     "status": "completed"
    },
    "tags": []
   },
   "outputs": [
    {
     "name": "stdout",
     "output_type": "stream",
     "text": [
      "3\n"
     ]
    },
    {
     "data": {
      "text/plain": [
       "[5, 4]"
      ]
     },
     "execution_count": 3,
     "metadata": {},
     "output_type": "execute_result"
    }
   ],
   "source": [
    "# Pop from stack - O(1)\n",
    "x = stk.pop()\n",
    "print(x)\n",
    "stk"
   ]
  },
  {
   "cell_type": "code",
   "execution_count": 4,
   "id": "8b382f2e",
   "metadata": {
    "execution": {
     "iopub.execute_input": "2024-07-31T11:52:45.294325Z",
     "iopub.status.busy": "2024-07-31T11:52:45.293975Z",
     "iopub.status.idle": "2024-07-31T11:52:45.299018Z",
     "shell.execute_reply": "2024-07-31T11:52:45.298007Z"
    },
    "papermill": {
     "duration": 0.013681,
     "end_time": "2024-07-31T11:52:45.301451",
     "exception": false,
     "start_time": "2024-07-31T11:52:45.287770",
     "status": "completed"
    },
    "tags": []
   },
   "outputs": [
    {
     "name": "stdout",
     "output_type": "stream",
     "text": [
      "4\n"
     ]
    }
   ],
   "source": [
    "# Ask what's on the top of stack - O(1)\n",
    "print(stk[-1])"
   ]
  },
  {
   "cell_type": "code",
   "execution_count": 5,
   "id": "7230c467",
   "metadata": {
    "execution": {
     "iopub.execute_input": "2024-07-31T11:52:45.313448Z",
     "iopub.status.busy": "2024-07-31T11:52:45.313065Z",
     "iopub.status.idle": "2024-07-31T11:52:45.318345Z",
     "shell.execute_reply": "2024-07-31T11:52:45.317320Z"
    },
    "papermill": {
     "duration": 0.014183,
     "end_time": "2024-07-31T11:52:45.320632",
     "exception": false,
     "start_time": "2024-07-31T11:52:45.306449",
     "status": "completed"
    },
    "tags": []
   },
   "outputs": [
    {
     "name": "stdout",
     "output_type": "stream",
     "text": [
      "True\n"
     ]
    }
   ],
   "source": [
    "# Ask if something is in the stack - O(1)\n",
    "if stk:\n",
    "    print(True)"
   ]
  },
  {
   "cell_type": "code",
   "execution_count": 6,
   "id": "e33093eb",
   "metadata": {
    "execution": {
     "iopub.execute_input": "2024-07-31T11:52:45.332876Z",
     "iopub.status.busy": "2024-07-31T11:52:45.332170Z",
     "iopub.status.idle": "2024-07-31T11:52:45.337951Z",
     "shell.execute_reply": "2024-07-31T11:52:45.336912Z"
    },
    "papermill": {
     "duration": 0.014358,
     "end_time": "2024-07-31T11:52:45.340256",
     "exception": false,
     "start_time": "2024-07-31T11:52:45.325898",
     "status": "completed"
    },
    "tags": []
   },
   "outputs": [
    {
     "name": "stdout",
     "output_type": "stream",
     "text": [
      "deque([])\n"
     ]
    }
   ],
   "source": [
    "# Queues - First in First out (Fifo)\n",
    "\n",
    "from collections import deque\n",
    "\n",
    "q = deque()\n",
    "print(q)"
   ]
  },
  {
   "cell_type": "code",
   "execution_count": 7,
   "id": "bf261287",
   "metadata": {
    "execution": {
     "iopub.execute_input": "2024-07-31T11:52:45.352457Z",
     "iopub.status.busy": "2024-07-31T11:52:45.351822Z",
     "iopub.status.idle": "2024-07-31T11:52:45.359127Z",
     "shell.execute_reply": "2024-07-31T11:52:45.358159Z"
    },
    "papermill": {
     "duration": 0.016079,
     "end_time": "2024-07-31T11:52:45.361478",
     "exception": false,
     "start_time": "2024-07-31T11:52:45.345399",
     "status": "completed"
    },
    "tags": []
   },
   "outputs": [
    {
     "data": {
      "text/plain": [
       "deque([5, 6, 7, 3, 9])"
      ]
     },
     "execution_count": 7,
     "metadata": {},
     "output_type": "execute_result"
    }
   ],
   "source": [
    "# Enqueue - Add element to the right - O(1)\n",
    "q.append(5)\n",
    "q.append(6)\n",
    "q.append(7)\n",
    "q.append(3)\n",
    "q.append(9)\n",
    "q"
   ]
  },
  {
   "cell_type": "code",
   "execution_count": 8,
   "id": "300ad294",
   "metadata": {
    "execution": {
     "iopub.execute_input": "2024-07-31T11:52:45.373839Z",
     "iopub.status.busy": "2024-07-31T11:52:45.373262Z",
     "iopub.status.idle": "2024-07-31T11:52:45.379552Z",
     "shell.execute_reply": "2024-07-31T11:52:45.378520Z"
    },
    "papermill": {
     "duration": 0.015116,
     "end_time": "2024-07-31T11:52:45.381960",
     "exception": false,
     "start_time": "2024-07-31T11:52:45.366844",
     "status": "completed"
    },
    "tags": []
   },
   "outputs": [
    {
     "data": {
      "text/plain": [
       "5"
      ]
     },
     "execution_count": 8,
     "metadata": {},
     "output_type": "execute_result"
    }
   ],
   "source": [
    "# Dequeue (pop left) - Remove element from the left - O(1)\n",
    "q.popleft()"
   ]
  },
  {
   "cell_type": "code",
   "execution_count": 9,
   "id": "831267be",
   "metadata": {
    "execution": {
     "iopub.execute_input": "2024-07-31T11:52:45.394729Z",
     "iopub.status.busy": "2024-07-31T11:52:45.394343Z",
     "iopub.status.idle": "2024-07-31T11:52:45.401322Z",
     "shell.execute_reply": "2024-07-31T11:52:45.400299Z"
    },
    "papermill": {
     "duration": 0.016209,
     "end_time": "2024-07-31T11:52:45.403575",
     "exception": false,
     "start_time": "2024-07-31T11:52:45.387366",
     "status": "completed"
    },
    "tags": []
   },
   "outputs": [
    {
     "data": {
      "text/plain": [
       "deque([6, 7, 3, 9])"
      ]
     },
     "execution_count": 9,
     "metadata": {},
     "output_type": "execute_result"
    }
   ],
   "source": [
    "q"
   ]
  },
  {
   "cell_type": "code",
   "execution_count": 10,
   "id": "3061fa7b",
   "metadata": {
    "execution": {
     "iopub.execute_input": "2024-07-31T11:52:45.416919Z",
     "iopub.status.busy": "2024-07-31T11:52:45.416551Z",
     "iopub.status.idle": "2024-07-31T11:52:45.422825Z",
     "shell.execute_reply": "2024-07-31T11:52:45.421902Z"
    },
    "papermill": {
     "duration": 0.016072,
     "end_time": "2024-07-31T11:52:45.425512",
     "exception": false,
     "start_time": "2024-07-31T11:52:45.409440",
     "status": "completed"
    },
    "tags": []
   },
   "outputs": [
    {
     "data": {
      "text/plain": [
       "6"
      ]
     },
     "execution_count": 10,
     "metadata": {},
     "output_type": "execute_result"
    }
   ],
   "source": [
    "# Peek from left side - O(1)\n",
    "q[0]"
   ]
  },
  {
   "cell_type": "code",
   "execution_count": 11,
   "id": "b299c3e3",
   "metadata": {
    "execution": {
     "iopub.execute_input": "2024-07-31T11:52:45.439633Z",
     "iopub.status.busy": "2024-07-31T11:52:45.438651Z",
     "iopub.status.idle": "2024-07-31T11:52:45.445317Z",
     "shell.execute_reply": "2024-07-31T11:52:45.444200Z"
    },
    "papermill": {
     "duration": 0.016199,
     "end_time": "2024-07-31T11:52:45.447674",
     "exception": false,
     "start_time": "2024-07-31T11:52:45.431475",
     "status": "completed"
    },
    "tags": []
   },
   "outputs": [
    {
     "data": {
      "text/plain": [
       "9"
      ]
     },
     "execution_count": 11,
     "metadata": {},
     "output_type": "execute_result"
    }
   ],
   "source": [
    "# Peek from right side - O(1)\n",
    "q[-1]"
   ]
  }
 ],
 "metadata": {
  "kaggle": {
   "accelerator": "none",
   "dataSources": [],
   "dockerImageVersionId": 30746,
   "isGpuEnabled": false,
   "isInternetEnabled": true,
   "language": "python",
   "sourceType": "notebook"
  },
  "kernelspec": {
   "display_name": "Python 3",
   "language": "python",
   "name": "python3"
  },
  "language_info": {
   "codemirror_mode": {
    "name": "ipython",
    "version": 3
   },
   "file_extension": ".py",
   "mimetype": "text/x-python",
   "name": "python",
   "nbconvert_exporter": "python",
   "pygments_lexer": "ipython3",
   "version": "3.10.13"
  },
  "papermill": {
   "default_parameters": {},
   "duration": 3.360503,
   "end_time": "2024-07-31T11:52:45.773519",
   "environment_variables": {},
   "exception": null,
   "input_path": "__notebook__.ipynb",
   "output_path": "__notebook__.ipynb",
   "parameters": {},
   "start_time": "2024-07-31T11:52:42.413016",
   "version": "2.5.0"
  }
 },
 "nbformat": 4,
 "nbformat_minor": 5
}
