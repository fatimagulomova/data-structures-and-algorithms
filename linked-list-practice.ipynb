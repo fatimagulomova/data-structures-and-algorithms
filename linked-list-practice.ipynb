{
 "cells": [
  {
   "cell_type": "markdown",
   "id": "d9332b6c",
   "metadata": {
    "papermill": {
     "duration": 0.004718,
     "end_time": "2024-07-30T17:43:19.885123",
     "exception": false,
     "start_time": "2024-07-30T17:43:19.880405",
     "status": "completed"
    },
    "tags": []
   },
   "source": [
    "# Linked List Practice"
   ]
  },
  {
   "cell_type": "markdown",
   "id": "22942d44",
   "metadata": {
    "papermill": {
     "duration": 0.0039,
     "end_time": "2024-07-30T17:43:19.893520",
     "exception": false,
     "start_time": "2024-07-30T17:43:19.889620",
     "status": "completed"
    },
    "tags": []
   },
   "source": [
    "## 1. Print the Elements of a Linked List\n",
    "Link: https://www.hackerrank.com/challenges/print-the-elements-of-a-linked-list/problem?isFullScreen=true"
   ]
  },
  {
   "cell_type": "code",
   "execution_count": 1,
   "id": "c1328d67",
   "metadata": {
    "execution": {
     "iopub.execute_input": "2024-07-30T17:43:19.903453Z",
     "iopub.status.busy": "2024-07-30T17:43:19.903046Z",
     "iopub.status.idle": "2024-07-30T17:43:19.914267Z",
     "shell.execute_reply": "2024-07-30T17:43:19.913334Z"
    },
    "papermill": {
     "duration": 0.018911,
     "end_time": "2024-07-30T17:43:19.916586",
     "exception": false,
     "start_time": "2024-07-30T17:43:19.897675",
     "status": "completed"
    },
    "tags": []
   },
   "outputs": [],
   "source": [
    "def printLinkedList(head):\n",
    "    if head:\n",
    "        print(str(head.data))\n",
    "        head = head.next\n",
    "    \n",
    "    return head"
   ]
  },
  {
   "cell_type": "markdown",
   "id": "db3ec674",
   "metadata": {
    "papermill": {
     "duration": 0.003906,
     "end_time": "2024-07-30T17:43:19.924800",
     "exception": false,
     "start_time": "2024-07-30T17:43:19.920894",
     "status": "completed"
    },
    "tags": []
   },
   "source": [
    "## 2. Insert a Node at the Tail of a Linked List\n",
    "Link: https://www.hackerrank.com/challenges/insert-a-node-at-the-tail-of-a-linked-list/problem?isFullScreen=true"
   ]
  },
  {
   "cell_type": "code",
   "execution_count": 2,
   "id": "01f4c540",
   "metadata": {
    "execution": {
     "iopub.execute_input": "2024-07-30T17:43:19.934698Z",
     "iopub.status.busy": "2024-07-30T17:43:19.934316Z",
     "iopub.status.idle": "2024-07-30T17:43:19.939783Z",
     "shell.execute_reply": "2024-07-30T17:43:19.938791Z"
    },
    "papermill": {
     "duration": 0.013306,
     "end_time": "2024-07-30T17:43:19.942266",
     "exception": false,
     "start_time": "2024-07-30T17:43:19.928960",
     "status": "completed"
    },
    "tags": []
   },
   "outputs": [],
   "source": [
    "def insertNodeAtTail(head, data):\n",
    "    curr = head\n",
    "    \n",
    "    if not head:\n",
    "        return SinglyLinkedListNode(data)\n",
    "    \n",
    "    while curr:\n",
    "        curr = curr.next\n",
    "    curr.next = SinglyLinkedListNode(data)\n",
    "   \n",
    "    return head"
   ]
  },
  {
   "cell_type": "markdown",
   "id": "1621d1f1",
   "metadata": {
    "papermill": {
     "duration": 0.003914,
     "end_time": "2024-07-30T17:43:19.950472",
     "exception": false,
     "start_time": "2024-07-30T17:43:19.946558",
     "status": "completed"
    },
    "tags": []
   },
   "source": [
    "## 3. Insert a node at the head of a linked list\n",
    "Link: https://www.hackerrank.com/challenges/insert-a-node-at-the-head-of-a-linked-list/problem?isFullScreen=true"
   ]
  },
  {
   "cell_type": "code",
   "execution_count": 3,
   "id": "02b717d8",
   "metadata": {
    "execution": {
     "iopub.execute_input": "2024-07-30T17:43:19.960460Z",
     "iopub.status.busy": "2024-07-30T17:43:19.960053Z",
     "iopub.status.idle": "2024-07-30T17:43:19.965669Z",
     "shell.execute_reply": "2024-07-30T17:43:19.964305Z"
    },
    "papermill": {
     "duration": 0.014079,
     "end_time": "2024-07-30T17:43:19.968645",
     "exception": false,
     "start_time": "2024-07-30T17:43:19.954566",
     "status": "completed"
    },
    "tags": []
   },
   "outputs": [],
   "source": [
    "def insertNodeAtHead(llist, data):\n",
    "    if llist is None:\n",
    "        llist = SinglyLinkedListNode(data)\n",
    "        \n",
    "    else:\n",
    "        new_node = SinglyLinkedListNode(data)\n",
    "        new_node.next = llist\n",
    "        llist = new_node\n",
    "    \n",
    "    return llist"
   ]
  },
  {
   "cell_type": "markdown",
   "id": "ffa6a10e",
   "metadata": {
    "papermill": {
     "duration": 0.003946,
     "end_time": "2024-07-30T17:43:19.978569",
     "exception": false,
     "start_time": "2024-07-30T17:43:19.974623",
     "status": "completed"
    },
    "tags": []
   },
   "source": [
    "## 4. Insert a node at a specific position in a linked list\n",
    "Link: https://www.hackerrank.com/challenges/insert-a-node-at-a-specific-position-in-a-linked-list/problem?isFullScreen=true"
   ]
  },
  {
   "cell_type": "code",
   "execution_count": 4,
   "id": "06d7a27f",
   "metadata": {
    "execution": {
     "iopub.execute_input": "2024-07-30T17:43:19.988488Z",
     "iopub.status.busy": "2024-07-30T17:43:19.988101Z",
     "iopub.status.idle": "2024-07-30T17:43:19.994076Z",
     "shell.execute_reply": "2024-07-30T17:43:19.993000Z"
    },
    "papermill": {
     "duration": 0.013566,
     "end_time": "2024-07-30T17:43:19.996345",
     "exception": false,
     "start_time": "2024-07-30T17:43:19.982779",
     "status": "completed"
    },
    "tags": []
   },
   "outputs": [],
   "source": [
    "def inserNodeAtPosition(llist, data, position):\n",
    "    new_node = SinglyLinkedListNode(data)\n",
    "    pos = 0\n",
    "    node = llist\n",
    "    \n",
    "    if not node:\n",
    "        return new_node\n",
    "    \n",
    "    while node.next:\n",
    "        pos += 1\n",
    "        \n",
    "        if pos == position:\n",
    "            prev_node = node.next\n",
    "            node.next = prev_node\n",
    "            \n",
    "        else:\n",
    "            node = node.next\n",
    "        \n",
    "        return llist"
   ]
  },
  {
   "cell_type": "markdown",
   "id": "2e5edecf",
   "metadata": {
    "papermill": {
     "duration": 0.004063,
     "end_time": "2024-07-30T17:43:20.004814",
     "exception": false,
     "start_time": "2024-07-30T17:43:20.000751",
     "status": "completed"
    },
    "tags": []
   },
   "source": [
    "## 5. Delete a Node\n",
    "Link: https://www.hackerrank.com/challenges/delete-a-node-from-a-linked-list/problem?isFullScreen=true"
   ]
  },
  {
   "cell_type": "code",
   "execution_count": 5,
   "id": "573a6f6b",
   "metadata": {
    "execution": {
     "iopub.execute_input": "2024-07-30T17:43:20.014901Z",
     "iopub.status.busy": "2024-07-30T17:43:20.014553Z",
     "iopub.status.idle": "2024-07-30T17:43:20.020117Z",
     "shell.execute_reply": "2024-07-30T17:43:20.019104Z"
    },
    "papermill": {
     "duration": 0.01326,
     "end_time": "2024-07-30T17:43:20.022392",
     "exception": false,
     "start_time": "2024-07-30T17:43:20.009132",
     "status": "completed"
    },
    "tags": []
   },
   "outputs": [],
   "source": [
    "def deleteNode(llist, position):\n",
    "    if position == 0:\n",
    "        return llist.next\n",
    "    \n",
    "    node = llist\n",
    "    \n",
    "    for _ in range(position - 1):\n",
    "        node = node.next\n",
    "        \n",
    "    node.next = node.next.next\n",
    "    return llist"
   ]
  },
  {
   "cell_type": "markdown",
   "id": "17a1daac",
   "metadata": {
    "papermill": {
     "duration": 0.003973,
     "end_time": "2024-07-30T17:43:20.030670",
     "exception": false,
     "start_time": "2024-07-30T17:43:20.026697",
     "status": "completed"
    },
    "tags": []
   },
   "source": [
    "## 6. Reverse a linked list\n",
    "Link: https://www.hackerrank.com/challenges/reverse-a-linked-list/problem?isFullScreen=true"
   ]
  },
  {
   "cell_type": "code",
   "execution_count": 6,
   "id": "05a2034c",
   "metadata": {
    "execution": {
     "iopub.execute_input": "2024-07-30T17:43:20.040573Z",
     "iopub.status.busy": "2024-07-30T17:43:20.040185Z",
     "iopub.status.idle": "2024-07-30T17:43:20.045736Z",
     "shell.execute_reply": "2024-07-30T17:43:20.044637Z"
    },
    "papermill": {
     "duration": 0.013186,
     "end_time": "2024-07-30T17:43:20.048021",
     "exception": false,
     "start_time": "2024-07-30T17:43:20.034835",
     "status": "completed"
    },
    "tags": []
   },
   "outputs": [],
   "source": [
    "def reverse(llist):\n",
    "    current = llist\n",
    "    prev = None\n",
    "    \n",
    "    while current:\n",
    "        next_ = current.next\n",
    "        current.next = prev\n",
    "        prev = current\n",
    "        current = next_\n",
    "        \n",
    "    llist = prev\n",
    "    \n",
    "    return llist"
   ]
  },
  {
   "cell_type": "markdown",
   "id": "e428c3ed",
   "metadata": {
    "papermill": {
     "duration": 0.003964,
     "end_time": "2024-07-30T17:43:20.056386",
     "exception": false,
     "start_time": "2024-07-30T17:43:20.052422",
     "status": "completed"
    },
    "tags": []
   },
   "source": [
    "## 7. Print in Reverse\n",
    "Link: https://www.hackerrank.com/challenges/print-the-elements-of-a-linked-list-in-reverse/problem?isFullScreen=true"
   ]
  },
  {
   "cell_type": "code",
   "execution_count": 7,
   "id": "4ea99412",
   "metadata": {
    "execution": {
     "iopub.execute_input": "2024-07-30T17:43:20.066868Z",
     "iopub.status.busy": "2024-07-30T17:43:20.065926Z",
     "iopub.status.idle": "2024-07-30T17:43:20.071890Z",
     "shell.execute_reply": "2024-07-30T17:43:20.070835Z"
    },
    "papermill": {
     "duration": 0.013633,
     "end_time": "2024-07-30T17:43:20.074189",
     "exception": false,
     "start_time": "2024-07-30T17:43:20.060556",
     "status": "completed"
    },
    "tags": []
   },
   "outputs": [],
   "source": [
    "def reversePrint(llist):\n",
    "    curr = llist \n",
    "    prev = None\n",
    "    \n",
    "    while curr:\n",
    "        next_ = curr.next\n",
    "        curr.next = prev\n",
    "        prev = curr\n",
    "        curr = next_\n",
    "        \n",
    "    llist = prev\n",
    "    \n",
    "    while llist:\n",
    "        print(llist.data)\n",
    "        llist = llist.next\n",
    "    \n",
    "    return llist"
   ]
  },
  {
   "cell_type": "markdown",
   "id": "2b8ea020",
   "metadata": {
    "papermill": {
     "duration": 0.003869,
     "end_time": "2024-07-30T17:43:20.082345",
     "exception": false,
     "start_time": "2024-07-30T17:43:20.078476",
     "status": "completed"
    },
    "tags": []
   },
   "source": [
    "## 8. Compare two linked lists\n",
    "Link: https://www.hackerrank.com/challenges/compare-two-linked-lists/problem?isFullScreen=true"
   ]
  },
  {
   "cell_type": "code",
   "execution_count": 8,
   "id": "d109c774",
   "metadata": {
    "execution": {
     "iopub.execute_input": "2024-07-30T17:43:20.092410Z",
     "iopub.status.busy": "2024-07-30T17:43:20.091717Z",
     "iopub.status.idle": "2024-07-30T17:43:20.097714Z",
     "shell.execute_reply": "2024-07-30T17:43:20.096613Z"
    },
    "papermill": {
     "duration": 0.013494,
     "end_time": "2024-07-30T17:43:20.100038",
     "exception": false,
     "start_time": "2024-07-30T17:43:20.086544",
     "status": "completed"
    },
    "tags": []
   },
   "outputs": [],
   "source": [
    "def compare_lists(llist1, llist2):\n",
    "    while llist1 and llist2:\n",
    "        if llist1.data != llist2.data:\n",
    "            return 0\n",
    "        \n",
    "        llist1, llist2 = llist1.next, llist2.next\n",
    "    \n",
    "    if llist1 is None and llist2 is None:\n",
    "        return 1\n",
    "    \n",
    "    else:\n",
    "        return 0"
   ]
  },
  {
   "cell_type": "code",
   "execution_count": null,
   "id": "4c7af376",
   "metadata": {
    "papermill": {
     "duration": 0.003914,
     "end_time": "2024-07-30T17:43:20.108443",
     "exception": false,
     "start_time": "2024-07-30T17:43:20.104529",
     "status": "completed"
    },
    "tags": []
   },
   "outputs": [],
   "source": []
  }
 ],
 "metadata": {
  "kaggle": {
   "accelerator": "none",
   "dataSources": [],
   "dockerImageVersionId": 30746,
   "isGpuEnabled": false,
   "isInternetEnabled": true,
   "language": "python",
   "sourceType": "notebook"
  },
  "kernelspec": {
   "display_name": "Python 3",
   "language": "python",
   "name": "python3"
  },
  "language_info": {
   "codemirror_mode": {
    "name": "ipython",
    "version": 3
   },
   "file_extension": ".py",
   "mimetype": "text/x-python",
   "name": "python",
   "nbconvert_exporter": "python",
   "pygments_lexer": "ipython3",
   "version": "3.10.13"
  },
  "papermill": {
   "default_parameters": {},
   "duration": 3.35594,
   "end_time": "2024-07-30T17:43:20.434404",
   "environment_variables": {},
   "exception": null,
   "input_path": "__notebook__.ipynb",
   "output_path": "__notebook__.ipynb",
   "parameters": {},
   "start_time": "2024-07-30T17:43:17.078464",
   "version": "2.5.0"
  }
 },
 "nbformat": 4,
 "nbformat_minor": 5
}
